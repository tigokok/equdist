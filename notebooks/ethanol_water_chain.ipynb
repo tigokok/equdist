{
 "cells": [
  {
   "cell_type": "code",
   "execution_count": 1,
   "metadata": {},
   "outputs": [
    {
     "name": "stdout",
     "output_type": "stream",
     "text": [
      "saved\n"
     ]
    }
   ],
   "source": [
    "import sys\n",
    "sys.path.append(\"..\")\n",
    "from equdist.physical_data_sets import save_component_list\n",
    "\n",
    "compounds = ['iso-butane', 'n-propane']\n",
    "save_component_list(compounds)"
   ]
  },
  {
   "cell_type": "code",
   "execution_count": 1,
   "metadata": {},
   "outputs": [
    {
     "ename": "ModuleNotFoundError",
     "evalue": "No module named 'equdist'",
     "output_type": "error",
     "traceback": [
      "\u001b[1;31m---------------------------------------------------------------------------\u001b[0m",
      "\u001b[1;31mModuleNotFoundError\u001b[0m                       Traceback (most recent call last)",
      "Cell \u001b[1;32mIn[1], line 5\u001b[0m\n\u001b[0;32m      3\u001b[0m \u001b[38;5;28;01mfrom\u001b[39;00m\u001b[38;5;250m \u001b[39m\u001b[38;5;21;01mjax\u001b[39;00m\u001b[38;5;250m \u001b[39m\u001b[38;5;28;01mimport\u001b[39;00m jit, vmap\n\u001b[0;32m      4\u001b[0m \u001b[38;5;28;01mimport\u001b[39;00m\u001b[38;5;250m \u001b[39m\u001b[38;5;21;01mmatplotlib\u001b[39;00m\u001b[38;5;21;01m.\u001b[39;00m\u001b[38;5;21;01mpyplot\u001b[39;00m\u001b[38;5;250m \u001b[39m\u001b[38;5;28;01mas\u001b[39;00m\u001b[38;5;250m \u001b[39m\u001b[38;5;21;01mplt\u001b[39;00m\n\u001b[1;32m----> 5\u001b[0m \u001b[38;5;28;01mfrom\u001b[39;00m\u001b[38;5;250m \u001b[39m\u001b[38;5;21;01mequdist\u001b[39;00m\u001b[38;5;21;01m.\u001b[39;00m\u001b[38;5;21;01mplot_generation\u001b[39;00m\u001b[38;5;250m \u001b[39m\u001b[38;5;28;01mimport\u001b[39;00m plot_function\n\u001b[0;32m      6\u001b[0m \u001b[38;5;28;01mfrom\u001b[39;00m\u001b[38;5;250m \u001b[39m\u001b[38;5;21;01mequdist\u001b[39;00m\u001b[38;5;21;01m.\u001b[39;00m\u001b[38;5;21;01mmodel\u001b[39;00m\u001b[38;5;250m \u001b[39m\u001b[38;5;28;01mimport\u001b[39;00m inside_simulation \u001b[38;5;28;01mas\u001b[39;00m simulation\n\u001b[0;32m      7\u001b[0m \u001b[38;5;28;01mfrom\u001b[39;00m\u001b[38;5;250m \u001b[39m\u001b[38;5;21;01mequdist\u001b[39;00m\u001b[38;5;21;01m.\u001b[39;00m\u001b[38;5;21;01mmodel\u001b[39;00m\u001b[38;5;250m \u001b[39m\u001b[38;5;28;01mimport\u001b[39;00m initialize\n",
      "\u001b[1;31mModuleNotFoundError\u001b[0m: No module named 'equdist'"
     ]
    }
   ],
   "source": [
    "import jax.numpy as jnp\n",
    "from time import time\n",
    "from jax import jit, vmap\n",
    "import matplotlib.pyplot as plt\n",
    "from equdist.plot_generation import plot_function\n",
    "from equdist.model import inside_simulation as simulation\n",
    "from equdist.model import initialize\n",
    "from equdist.model import condensor_duty\n",
    "import os\n",
    "from tqdm import tqdm\n",
    "\n",
    "\n",
    "state_init = initialize(len(compounds))\n",
    "\n",
    "\n",
    "\n",
    "zf = jnp.array([0.5, 0.5])\n",
    "zf = zf/jnp.sum(zf)\n",
    "iterations = 0\n",
    "st = time()\n",
    "\n",
    "state = jit(simulation)(\n",
    "        state=state_init,\n",
    "        nstages=jnp.array(25, dtype=int),\n",
    "        feedstage=jnp.array(15, dtype=int),\n",
    "        pressure=jnp.array(1.0, dtype=float),\n",
    "        feed=jnp.array(1000.0, dtype=float),\n",
    "        z=jnp.array(zf, dtype=float),\n",
    "        distillate=jnp.array(15., dtype=float),\n",
    "        rr=jnp.array(1., dtype=float),\n",
    "        specs=False\n",
    "    )\n",
    "\n",
    "print(state.X[:, 0])\n",
    "\n",
    "\n"
   ]
  },
  {
   "cell_type": "code",
   "execution_count": null,
   "metadata": {},
   "outputs": [],
   "source": []
  }
 ],
 "metadata": {
  "kernelspec": {
   "display_name": ".RL_venv",
   "language": "python",
   "name": "python3"
  },
  "language_info": {
   "codemirror_mode": {
    "name": "ipython",
    "version": 3
   },
   "file_extension": ".py",
   "mimetype": "text/x-python",
   "name": "python",
   "nbconvert_exporter": "python",
   "pygments_lexer": "ipython3",
   "version": "3.13.1"
  }
 },
 "nbformat": 4,
 "nbformat_minor": 2
}
