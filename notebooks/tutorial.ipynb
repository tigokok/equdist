{
  "cells": [
    {
      "cell_type": "markdown",
      "metadata": {
        "colab_type": "text",
        "id": "view-in-github"
      },
      "source": [
        "<a href=\"https://colab.research.google.com/github/NiklasSlager/equdist/blob/master/notebooks/tutorial.ipynb\" target=\"_parent\"><img src=\"https://colab.research.google.com/assets/colab-badge.svg\" alt=\"Open In Colab\"/></a>"
      ]
    },
    {
      "cell_type": "code",
      "execution_count": null,
      "id": "2vXshkddZapV",
      "metadata": {
        "colab": {
          "base_uri": "https://localhost:8080/"
        },
        "collapsed": true,
        "id": "2vXshkddZapV",
        "outputId": "2335b867-dd31-4252-9fa6-b60aa49a40f2"
      },
      "outputs": [],
      "source": [
        "!pip install --quiet -U git+https://github.com/NiklasSlager/equdist.git"
      ]
    },
    {
      "cell_type": "code",
      "execution_count": 1,
      "id": "5487e6ab",
      "metadata": {},
      "outputs": [],
      "source": [
        "import sys\n",
        "sys.path.append(\"..\")"
      ]
    },
    {
      "cell_type": "code",
      "execution_count": 2,
      "id": "74927c27",
      "metadata": {},
      "outputs": [
        {
          "name": "stdout",
          "output_type": "stream",
          "text": [
            "saved\n"
          ]
        }
      ],
      "source": [
        "from equdist.physical_data_sets import save_component_list\n",
        "\n",
        "compounds = ['cyclo-pentane', 'n-hexane','trimethyl-butane', 'water']\n",
        "save_component_list(compounds)"
      ]
    },
    {
      "cell_type": "code",
      "execution_count": null,
      "id": "c9ce02d1-b59c-46ca-ab57-3217d5cacd5b",
      "metadata": {
        "colab": {
          "base_uri": "https://localhost:8080/",
          "height": 465
        },
        "id": "c9ce02d1-b59c-46ca-ab57-3217d5cacd5b",
        "outputId": "2d62fe32-fe79-4794-f8ad-389e5136ec2c"
      },
      "outputs": [
        {
          "ename": "TracerArrayConversionError",
          "evalue": "The numpy.ndarray conversion method __array__() was called on traced array with shape int32[]\nThis BatchTracer with object id 2476256023312 was created on line:\n  c:\\Users\\tigok\\Desktop\\Uni\\SET Msc Assignment\\Python project folder\\equdist\\notebooks\\..\\equdist\\functions.py:16:27 (tray_t_solver.<locals>.function)\nSee https://jax.readthedocs.io/en/latest/errors.html#jax.errors.TracerArrayConversionError",
          "output_type": "error",
          "traceback": [
            "\u001b[1;31m---------------------------------------------------------------------------\u001b[0m",
            "\u001b[1;31mTracerArrayConversionError\u001b[0m                Traceback (most recent call last)",
            "Cell \u001b[1;32mIn[3], line 23\u001b[0m\n\u001b[0;32m     19\u001b[0m iterations \u001b[38;5;241m=\u001b[39m \u001b[38;5;241m0\u001b[39m\n\u001b[0;32m     20\u001b[0m st \u001b[38;5;241m=\u001b[39m time()\n\u001b[1;32m---> 23\u001b[0m state \u001b[38;5;241m=\u001b[39m \u001b[43mjit\u001b[49m\u001b[43m(\u001b[49m\u001b[43msimulation\u001b[49m\u001b[43m)\u001b[49m\u001b[43m(\u001b[49m\n\u001b[0;32m     24\u001b[0m \u001b[43m        \u001b[49m\u001b[43mstate\u001b[49m\u001b[38;5;241;43m=\u001b[39;49m\u001b[43mstate_init\u001b[49m\u001b[43m,\u001b[49m\n\u001b[0;32m     25\u001b[0m \u001b[43m        \u001b[49m\u001b[43mnstages\u001b[49m\u001b[38;5;241;43m=\u001b[39;49m\u001b[43mjnp\u001b[49m\u001b[38;5;241;43m.\u001b[39;49m\u001b[43marray\u001b[49m\u001b[43m(\u001b[49m\u001b[38;5;241;43m30\u001b[39;49m\u001b[43m,\u001b[49m\u001b[43m \u001b[49m\u001b[43mdtype\u001b[49m\u001b[38;5;241;43m=\u001b[39;49m\u001b[43mjnp\u001b[49m\u001b[38;5;241;43m.\u001b[39;49m\u001b[43mint32\u001b[49m\u001b[43m)\u001b[49m\u001b[43m,\u001b[49m\n\u001b[0;32m     26\u001b[0m \u001b[43m        \u001b[49m\u001b[43mfeedstage\u001b[49m\u001b[38;5;241;43m=\u001b[39;49m\u001b[43mjnp\u001b[49m\u001b[38;5;241;43m.\u001b[39;49m\u001b[43marray\u001b[49m\u001b[43m(\u001b[49m\u001b[38;5;241;43m15\u001b[39;49m\u001b[43m,\u001b[49m\u001b[43m \u001b[49m\u001b[43mdtype\u001b[49m\u001b[38;5;241;43m=\u001b[39;49m\u001b[43mjnp\u001b[49m\u001b[38;5;241;43m.\u001b[39;49m\u001b[43mint32\u001b[49m\u001b[43m)\u001b[49m\u001b[43m,\u001b[49m\n\u001b[0;32m     27\u001b[0m \u001b[43m        \u001b[49m\u001b[43mpressure\u001b[49m\u001b[38;5;241;43m=\u001b[39;49m\u001b[43mjnp\u001b[49m\u001b[38;5;241;43m.\u001b[39;49m\u001b[43marray\u001b[49m\u001b[43m(\u001b[49m\u001b[38;5;241;43m2.0\u001b[39;49m\u001b[43m,\u001b[49m\u001b[43m \u001b[49m\u001b[43mdtype\u001b[49m\u001b[38;5;241;43m=\u001b[39;49m\u001b[43mjnp\u001b[49m\u001b[38;5;241;43m.\u001b[39;49m\u001b[43mfloat32\u001b[49m\u001b[43m)\u001b[49m\u001b[43m,\u001b[49m\n\u001b[0;32m     28\u001b[0m \u001b[43m        \u001b[49m\u001b[43mfeed\u001b[49m\u001b[38;5;241;43m=\u001b[39;49m\u001b[43mjnp\u001b[49m\u001b[38;5;241;43m.\u001b[39;49m\u001b[43marray\u001b[49m\u001b[43m(\u001b[49m\u001b[38;5;241;43m1000.0\u001b[39;49m\u001b[43m,\u001b[49m\u001b[43m \u001b[49m\u001b[43mdtype\u001b[49m\u001b[38;5;241;43m=\u001b[39;49m\u001b[43mjnp\u001b[49m\u001b[38;5;241;43m.\u001b[39;49m\u001b[43mfloat32\u001b[49m\u001b[43m)\u001b[49m\u001b[43m,\u001b[49m\n\u001b[0;32m     29\u001b[0m \u001b[43m        \u001b[49m\u001b[43mz\u001b[49m\u001b[38;5;241;43m=\u001b[39;49m\u001b[43mjnp\u001b[49m\u001b[38;5;241;43m.\u001b[39;49m\u001b[43marray\u001b[49m\u001b[43m(\u001b[49m\u001b[43mzf\u001b[49m\u001b[43m,\u001b[49m\u001b[43m \u001b[49m\u001b[43mdtype\u001b[49m\u001b[38;5;241;43m=\u001b[39;49m\u001b[43mjnp\u001b[49m\u001b[38;5;241;43m.\u001b[39;49m\u001b[43mfloat32\u001b[49m\u001b[43m)\u001b[49m\u001b[43m,\u001b[49m\n\u001b[0;32m     30\u001b[0m \u001b[43m        \u001b[49m\u001b[43mdistillate\u001b[49m\u001b[38;5;241;43m=\u001b[39;49m\u001b[43mjnp\u001b[49m\u001b[38;5;241;43m.\u001b[39;49m\u001b[43marray\u001b[49m\u001b[43m(\u001b[49m\u001b[38;5;241;43m400\u001b[39;49m\u001b[43m,\u001b[49m\u001b[43m \u001b[49m\u001b[43mdtype\u001b[49m\u001b[38;5;241;43m=\u001b[39;49m\u001b[43mjnp\u001b[49m\u001b[38;5;241;43m.\u001b[39;49m\u001b[43mfloat32\u001b[49m\u001b[43m)\u001b[49m\u001b[43m,\u001b[49m\n\u001b[0;32m     31\u001b[0m \u001b[43m        \u001b[49m\u001b[43mrr\u001b[49m\u001b[38;5;241;43m=\u001b[39;49m\u001b[43mjnp\u001b[49m\u001b[38;5;241;43m.\u001b[39;49m\u001b[43marray\u001b[49m\u001b[43m(\u001b[49m\u001b[38;5;241;43m1\u001b[39;49m\u001b[43m,\u001b[49m\u001b[43m \u001b[49m\u001b[43mdtype\u001b[49m\u001b[38;5;241;43m=\u001b[39;49m\u001b[43mjnp\u001b[49m\u001b[38;5;241;43m.\u001b[39;49m\u001b[43mfloat32\u001b[49m\u001b[43m)\u001b[49m\u001b[43m,\u001b[49m\n\u001b[0;32m     32\u001b[0m \u001b[43m        \u001b[49m\u001b[43mspecs\u001b[49m\u001b[38;5;241;43m=\u001b[39;49m\u001b[38;5;28;43;01mFalse\u001b[39;49;00m\n\u001b[0;32m     33\u001b[0m \u001b[43m    \u001b[49m\u001b[43m)\u001b[49m\n\u001b[0;32m     35\u001b[0m \u001b[38;5;28mprint\u001b[39m(\u001b[38;5;124m'\u001b[39m\u001b[38;5;124mevaluation time = \u001b[39m\u001b[38;5;124m'\u001b[39m, time()\u001b[38;5;241m-\u001b[39mst)\n\u001b[0;32m     36\u001b[0m \u001b[38;5;28mprint\u001b[39m(\u001b[38;5;124m'\u001b[39m\u001b[38;5;124mEquimolar NR iterations to convergence =\u001b[39m\u001b[38;5;124m'\u001b[39m, state\u001b[38;5;241m.\u001b[39mEQU_iterations)\n",
            "    \u001b[1;31m[... skipping hidden 13 frame]\u001b[0m\n",
            "File \u001b[1;32mc:\\Users\\tigok\\Desktop\\Uni\\SET Msc Assignment\\Python project folder\\equdist\\notebooks\\..\\equdist\\model.py:351\u001b[0m, in \u001b[0;36minside_simulation\u001b[1;34m(state, nstages, feedstage, pressure, feed, z, distillate, rr, analytics, specs, heavy_recovery, light_recovery)\u001b[0m\n\u001b[0;32m    344\u001b[0m \u001b[38;5;28;01mdef\u001b[39;00m\u001b[38;5;250m \u001b[39m\u001b[38;5;21minside_simulation\u001b[39m(state, nstages, feedstage, pressure, feed, z, distillate, rr, analytics\u001b[38;5;241m=\u001b[39m\u001b[38;5;28;01mFalse\u001b[39;00m, specs\u001b[38;5;241m=\u001b[39m\u001b[38;5;28;01mFalse\u001b[39;00m,\n\u001b[0;32m    345\u001b[0m                       heavy_recovery\u001b[38;5;241m=\u001b[39mjnp\u001b[38;5;241m.\u001b[39marray(\u001b[38;5;241m0.99\u001b[39m, dtype\u001b[38;5;241m=\u001b[39m\u001b[38;5;28mfloat\u001b[39m), light_recovery\u001b[38;5;241m=\u001b[39mjnp\u001b[38;5;241m.\u001b[39marray(\u001b[38;5;241m0.99\u001b[39m, dtype\u001b[38;5;241m=\u001b[39m\u001b[38;5;28mfloat\u001b[39m)):\n\u001b[0;32m    347\u001b[0m     state \u001b[38;5;241m=\u001b[39m initial_guess(state\u001b[38;5;241m=\u001b[39mstate, nstages\u001b[38;5;241m=\u001b[39mnstages, feedstage\u001b[38;5;241m=\u001b[39mfeedstage, pressure\u001b[38;5;241m=\u001b[39mpressure, feed\u001b[38;5;241m=\u001b[39mfeed, z\u001b[38;5;241m=\u001b[39mz,\n\u001b[0;32m    348\u001b[0m                           distillate\u001b[38;5;241m=\u001b[39mdistillate, rr\u001b[38;5;241m=\u001b[39mrr, analytics\u001b[38;5;241m=\u001b[39manalytics, specs\u001b[38;5;241m=\u001b[39mspecs, heavy_recovery\u001b[38;5;241m=\u001b[39mheavy_recovery,\n\u001b[0;32m    349\u001b[0m                           light_recovery\u001b[38;5;241m=\u001b[39mlight_recovery)\n\u001b[1;32m--> 351\u001b[0m     state \u001b[38;5;241m=\u001b[39m \u001b[43msplit_guess\u001b[49m\u001b[43m(\u001b[49m\u001b[43mstate\u001b[49m\u001b[43m,\u001b[49m\u001b[43m \u001b[49m\u001b[43mfeedstage\u001b[49m\u001b[43m)\u001b[49m\n\u001b[0;32m    352\u001b[0m     state \u001b[38;5;241m=\u001b[39m functions\u001b[38;5;241m.\u001b[39my_func(state)\n\u001b[0;32m    353\u001b[0m     state \u001b[38;5;241m=\u001b[39m state\u001b[38;5;241m.\u001b[39mreplace(temperature_bounds\u001b[38;5;241m=\u001b[39mjnp\u001b[38;5;241m.\u001b[39masarray([state\u001b[38;5;241m.\u001b[39mtemperature[\u001b[38;5;241m0\u001b[39m], state\u001b[38;5;241m.\u001b[39mtemperature[state\u001b[38;5;241m.\u001b[39mNstages\u001b[38;5;241m-\u001b[39m\u001b[38;5;241m1\u001b[39m]]))\n",
            "File \u001b[1;32mc:\\Users\\tigok\\Desktop\\Uni\\SET Msc Assignment\\Python project folder\\equdist\\notebooks\\..\\equdist\\model.py:168\u001b[0m, in \u001b[0;36msplit_guess\u001b[1;34m(state, feedstage)\u001b[0m\n\u001b[0;32m    161\u001b[0m \u001b[38;5;250m\u001b[39m\u001b[38;5;124;03m'''\u001b[39;00m\n\u001b[0;32m    162\u001b[0m \u001b[38;5;124;03ml_hb = jnp.where(jnp.arange(len(state.temperature)) >= feedstage, hb[:, None], 0)*jnp.where(jnp.arange(len(state.temperature))<state.Nstages+1, 1, 0)\u001b[39;00m\n\u001b[0;32m    163\u001b[0m \u001b[38;5;124;03ml_lb = jnp.where(jnp.arange(len(state.temperature)) <= feedstage, lb[:, None], 0) * jnp.where(\u001b[39;00m\n\u001b[0;32m    164\u001b[0m \u001b[38;5;124;03m    jnp.arange(len(state.temperature)) < state.Nstages + 1, 1, 0)\u001b[39;00m\n\u001b[0;32m    165\u001b[0m \u001b[38;5;124;03ml = (l_keys+l_hb+l_lb)\u001b[39;00m\n\u001b[0;32m    166\u001b[0m \u001b[38;5;124;03m'''\u001b[39;00m\n\u001b[0;32m    167\u001b[0m state \u001b[38;5;241m=\u001b[39m state\u001b[38;5;241m.\u001b[39mreplace(X\u001b[38;5;241m=\u001b[39mjnp\u001b[38;5;241m.\u001b[39mnan_to_num(l\u001b[38;5;241m/\u001b[39mjnp\u001b[38;5;241m.\u001b[39msum(l, axis\u001b[38;5;241m=\u001b[39m\u001b[38;5;241m0\u001b[39m)))\n\u001b[1;32m--> 168\u001b[0m state \u001b[38;5;241m=\u001b[39m \u001b[43mfunctions\u001b[49m\u001b[38;5;241;43m.\u001b[39;49m\u001b[43mstage_temperature\u001b[49m\u001b[43m(\u001b[49m\u001b[43mstate\u001b[49m\u001b[43m)\u001b[49m\n\u001b[0;32m    169\u001b[0m \u001b[38;5;66;03m#state = state.replace(temperature=state.temperature[0] + (state.temperature[state.Nstages-1]-state.temperature[0])/(state.Nstages-1)*jnp.arange(len(state.temperature)))\u001b[39;00m\n\u001b[0;32m    170\u001b[0m temperature \u001b[38;5;241m=\u001b[39m jnp\u001b[38;5;241m.\u001b[39mwhere(jnp\u001b[38;5;241m.\u001b[39marange(\u001b[38;5;28mlen\u001b[39m(state\u001b[38;5;241m.\u001b[39mtemperature))\u001b[38;5;241m<\u001b[39mfeedstage, state\u001b[38;5;241m.\u001b[39mtemperature[\u001b[38;5;241m0\u001b[39m], state\u001b[38;5;241m.\u001b[39mtemperature[state\u001b[38;5;241m.\u001b[39mNstages\u001b[38;5;241m-\u001b[39m\u001b[38;5;241m1\u001b[39m])\n",
            "File \u001b[1;32mc:\\Users\\tigok\\Desktop\\Uni\\SET Msc Assignment\\Python project folder\\equdist\\notebooks\\..\\equdist\\functions.py:22\u001b[0m, in \u001b[0;36mstage_temperature\u001b[1;34m(state)\u001b[0m\n\u001b[0;32m     21\u001b[0m \u001b[38;5;28;01mdef\u001b[39;00m\u001b[38;5;250m \u001b[39m\u001b[38;5;21mstage_temperature\u001b[39m(state: State):\n\u001b[1;32m---> 22\u001b[0m     temperature \u001b[38;5;241m=\u001b[39m \u001b[43mvmap\u001b[49m\u001b[43m(\u001b[49m\u001b[43mtray_t_solver\u001b[49m\u001b[43m,\u001b[49m\u001b[43m \u001b[49m\u001b[43min_axes\u001b[49m\u001b[38;5;241;43m=\u001b[39;49m\u001b[43m(\u001b[49m\u001b[38;5;28;43;01mNone\u001b[39;49;00m\u001b[43m,\u001b[49m\u001b[43m \u001b[49m\u001b[38;5;241;43m0\u001b[39;49m\u001b[43m,\u001b[49m\u001b[43m \u001b[49m\u001b[38;5;28;43;01mNone\u001b[39;49;00m\u001b[43m,\u001b[49m\u001b[43m \u001b[49m\u001b[38;5;28;43;01mNone\u001b[39;49;00m\u001b[43m)\u001b[49m\u001b[43m)\u001b[49m\u001b[43m(\u001b[49m\u001b[43mstate\u001b[49m\u001b[43m,\u001b[49m\u001b[43m \u001b[49m\u001b[43mjnp\u001b[49m\u001b[38;5;241;43m.\u001b[39;49m\u001b[43marange\u001b[49m\u001b[43m(\u001b[49m\u001b[38;5;241;43m0\u001b[39;49m\u001b[43m,\u001b[49m\u001b[43m \u001b[49m\u001b[38;5;28;43mlen\u001b[39;49m\u001b[43m(\u001b[49m\u001b[43mstate\u001b[49m\u001b[38;5;241;43m.\u001b[39;49m\u001b[43mL\u001b[49m\u001b[43m)\u001b[49m\u001b[43m)\u001b[49m\u001b[43m,\u001b[49m\n\u001b[0;32m     23\u001b[0m \u001b[43m                                                               \u001b[49m\u001b[43mstate\u001b[49m\u001b[38;5;241;43m.\u001b[39;49m\u001b[43mtemperature\u001b[49m\u001b[43m,\u001b[49m\u001b[43m \u001b[49m\u001b[43mstate\u001b[49m\u001b[38;5;241;43m.\u001b[39;49m\u001b[43mX\u001b[49m\u001b[43m)\u001b[49m\n\u001b[0;32m     24\u001b[0m     \u001b[38;5;28;01mreturn\u001b[39;00m state\u001b[38;5;241m.\u001b[39mreplace(temperature\u001b[38;5;241m=\u001b[39mtemperature)\n",
            "    \u001b[1;31m[... skipping hidden 6 frame]\u001b[0m\n",
            "File \u001b[1;32mc:\\Users\\tigok\\Desktop\\Uni\\SET Msc Assignment\\Python project folder\\equdist\\notebooks\\..\\equdist\\functions.py:17\u001b[0m, in \u001b[0;36mtray_t_solver\u001b[1;34m(state, tray, temperature, xc)\u001b[0m\n\u001b[0;32m     15\u001b[0m \u001b[38;5;28;01mdef\u001b[39;00m\u001b[38;5;250m \u001b[39m\u001b[38;5;21mfunction\u001b[39m(tempcalc):\n\u001b[0;32m     16\u001b[0m     \u001b[38;5;28;01mreturn\u001b[39;00m \u001b[38;5;241m1\u001b[39m \u001b[38;5;241m-\u001b[39m jnp\u001b[38;5;241m.\u001b[39msum(vmap(thermodynamics\u001b[38;5;241m.\u001b[39mk_eq, in_axes\u001b[38;5;241m=\u001b[39m(\u001b[38;5;28;01mNone\u001b[39;00m, \u001b[38;5;241m0\u001b[39m, \u001b[38;5;28;01mNone\u001b[39;00m))(tempcalc, state\u001b[38;5;241m.\u001b[39mcomponents, state\u001b[38;5;241m.\u001b[39mpressure) \u001b[38;5;241m*\u001b[39m xc[:, tray])\n\u001b[1;32m---> 17\u001b[0m result \u001b[38;5;241m=\u001b[39m \u001b[43mBisection\u001b[49m\u001b[43m(\u001b[49m\u001b[43moptimality_fun\u001b[49m\u001b[38;5;241;43m=\u001b[39;49m\u001b[43mfunction\u001b[49m\u001b[43m,\u001b[49m\u001b[43m \u001b[49m\u001b[43mlower\u001b[49m\u001b[38;5;241;43m=\u001b[39;49m\u001b[38;5;241;43m500.\u001b[39;49m\u001b[43m,\u001b[49m\u001b[43m \u001b[49m\u001b[43mupper\u001b[49m\u001b[38;5;241;43m=\u001b[39;49m\u001b[38;5;241;43m100.\u001b[39;49m\u001b[43m,\u001b[49m\u001b[43m \u001b[49m\u001b[43mcheck_bracket\u001b[49m\u001b[38;5;241;43m=\u001b[39;49m\u001b[38;5;28;43;01mFalse\u001b[39;49;00m\u001b[43m)\u001b[49m\u001b[38;5;241;43m.\u001b[39;49m\u001b[43mrun\u001b[49m\u001b[43m(\u001b[49m\u001b[43mtemperature\u001b[49m\u001b[43m[\u001b[49m\u001b[43mtray\u001b[49m\u001b[43m]\u001b[49m\u001b[43m)\u001b[49m\u001b[38;5;241m.\u001b[39mparams\n\u001b[0;32m     18\u001b[0m \u001b[38;5;28;01mreturn\u001b[39;00m result\n",
            "File \u001b[1;32mc:\\Users\\tigok\\Desktop\\Uni\\SET Msc Assignment\\Python project folder\\.RL_venv\\Lib\\site-packages\\jaxopt\\_src\\bisection.py:171\u001b[0m, in \u001b[0;36mBisection.run\u001b[1;34m(self, init_params, *args, **kwargs)\u001b[0m\n\u001b[0;32m    166\u001b[0m \u001b[38;5;28;01mdef\u001b[39;00m\u001b[38;5;250m \u001b[39m\u001b[38;5;21mrun\u001b[39m(\u001b[38;5;28mself\u001b[39m,\n\u001b[0;32m    167\u001b[0m         init_params: Optional[Any] \u001b[38;5;241m=\u001b[39m \u001b[38;5;28;01mNone\u001b[39;00m,\n\u001b[0;32m    168\u001b[0m         \u001b[38;5;241m*\u001b[39margs,\n\u001b[0;32m    169\u001b[0m         \u001b[38;5;241m*\u001b[39m\u001b[38;5;241m*\u001b[39mkwargs) \u001b[38;5;241m-\u001b[39m\u001b[38;5;241m>\u001b[39m base\u001b[38;5;241m.\u001b[39mOptStep:\n\u001b[0;32m    170\u001b[0m   \u001b[38;5;66;03m# We override run in order to set init_params=None by default.\u001b[39;00m\n\u001b[1;32m--> 171\u001b[0m   \u001b[38;5;28;01mreturn\u001b[39;00m \u001b[38;5;28;43msuper\u001b[39;49m\u001b[43m(\u001b[49m\u001b[43m)\u001b[49m\u001b[38;5;241;43m.\u001b[39;49m\u001b[43mrun\u001b[49m\u001b[43m(\u001b[49m\u001b[43minit_params\u001b[49m\u001b[43m,\u001b[49m\u001b[43m \u001b[49m\u001b[38;5;241;43m*\u001b[39;49m\u001b[43margs\u001b[49m\u001b[43m,\u001b[49m\u001b[43m \u001b[49m\u001b[38;5;241;43m*\u001b[39;49m\u001b[38;5;241;43m*\u001b[39;49m\u001b[43mkwargs\u001b[49m\u001b[43m)\u001b[49m\n",
            "File \u001b[1;32mc:\\Users\\tigok\\Desktop\\Uni\\SET Msc Assignment\\Python project folder\\.RL_venv\\Lib\\site-packages\\jaxopt\\_src\\base.py:359\u001b[0m, in \u001b[0;36mIterativeSolver.run\u001b[1;34m(self, init_params, *args, **kwargs)\u001b[0m\n\u001b[0;32m    352\u001b[0m   decorator \u001b[38;5;241m=\u001b[39m idf\u001b[38;5;241m.\u001b[39mcustom_root(\n\u001b[0;32m    353\u001b[0m       \u001b[38;5;28mself\u001b[39m\u001b[38;5;241m.\u001b[39moptimality_fun,\n\u001b[0;32m    354\u001b[0m       has_aux\u001b[38;5;241m=\u001b[39m\u001b[38;5;28;01mTrue\u001b[39;00m,\n\u001b[0;32m    355\u001b[0m       solve\u001b[38;5;241m=\u001b[39m\u001b[38;5;28mself\u001b[39m\u001b[38;5;241m.\u001b[39mimplicit_diff_solve,\n\u001b[0;32m    356\u001b[0m       reference_signature\u001b[38;5;241m=\u001b[39mreference_signature)\n\u001b[0;32m    357\u001b[0m   run \u001b[38;5;241m=\u001b[39m decorator(run)\n\u001b[1;32m--> 359\u001b[0m \u001b[38;5;28;01mreturn\u001b[39;00m \u001b[43mrun\u001b[49m\u001b[43m(\u001b[49m\u001b[43minit_params\u001b[49m\u001b[43m,\u001b[49m\u001b[43m \u001b[49m\u001b[38;5;241;43m*\u001b[39;49m\u001b[43margs\u001b[49m\u001b[43m,\u001b[49m\u001b[43m \u001b[49m\u001b[38;5;241;43m*\u001b[39;49m\u001b[38;5;241;43m*\u001b[39;49m\u001b[43mkwargs\u001b[49m\u001b[43m)\u001b[49m\n",
            "File \u001b[1;32mc:\\Users\\tigok\\Desktop\\Uni\\SET Msc Assignment\\Python project folder\\.RL_venv\\Lib\\site-packages\\jaxopt\\_src\\implicit_diff.py:251\u001b[0m, in \u001b[0;36m_custom_root.<locals>.wrapped_solver_fun\u001b[1;34m(*args, **kwargs)\u001b[0m\n\u001b[0;32m    249\u001b[0m args, kwargs \u001b[38;5;241m=\u001b[39m _signature_bind(solver_fun_signature, \u001b[38;5;241m*\u001b[39margs, \u001b[38;5;241m*\u001b[39m\u001b[38;5;241m*\u001b[39mkwargs)\n\u001b[0;32m    250\u001b[0m keys, vals \u001b[38;5;241m=\u001b[39m \u001b[38;5;28mlist\u001b[39m(kwargs\u001b[38;5;241m.\u001b[39mkeys()), \u001b[38;5;28mlist\u001b[39m(kwargs\u001b[38;5;241m.\u001b[39mvalues())\n\u001b[1;32m--> 251\u001b[0m \u001b[38;5;28;01mreturn\u001b[39;00m \u001b[43mmake_custom_vjp_solver_fun\u001b[49m\u001b[43m(\u001b[49m\u001b[43msolver_fun\u001b[49m\u001b[43m,\u001b[49m\u001b[43m \u001b[49m\u001b[43mkeys\u001b[49m\u001b[43m)\u001b[49m\u001b[43m(\u001b[49m\u001b[38;5;241;43m*\u001b[39;49m\u001b[43margs\u001b[49m\u001b[43m,\u001b[49m\u001b[43m \u001b[49m\u001b[38;5;241;43m*\u001b[39;49m\u001b[43mvals\u001b[49m\u001b[43m)\u001b[49m\n",
            "    \u001b[1;31m[... skipping hidden 12 frame]\u001b[0m\n",
            "File \u001b[1;32mc:\\Users\\tigok\\Desktop\\Uni\\SET Msc Assignment\\Python project folder\\.RL_venv\\Lib\\site-packages\\jaxopt\\_src\\implicit_diff.py:207\u001b[0m, in \u001b[0;36m_custom_root.<locals>.make_custom_vjp_solver_fun.<locals>.solver_fun_flat\u001b[1;34m(*flat_args)\u001b[0m\n\u001b[0;32m    204\u001b[0m \u001b[38;5;129m@jax\u001b[39m\u001b[38;5;241m.\u001b[39mcustom_vjp\n\u001b[0;32m    205\u001b[0m \u001b[38;5;28;01mdef\u001b[39;00m\u001b[38;5;250m \u001b[39m\u001b[38;5;21msolver_fun_flat\u001b[39m(\u001b[38;5;241m*\u001b[39mflat_args):\n\u001b[0;32m    206\u001b[0m   args, kwargs \u001b[38;5;241m=\u001b[39m _extract_kwargs(kwarg_keys, flat_args)\n\u001b[1;32m--> 207\u001b[0m   \u001b[38;5;28;01mreturn\u001b[39;00m \u001b[43msolver_fun\u001b[49m\u001b[43m(\u001b[49m\u001b[38;5;241;43m*\u001b[39;49m\u001b[43margs\u001b[49m\u001b[43m,\u001b[49m\u001b[43m \u001b[49m\u001b[38;5;241;43m*\u001b[39;49m\u001b[38;5;241;43m*\u001b[39;49m\u001b[43mkwargs\u001b[49m\u001b[43m)\u001b[49m\n",
            "File \u001b[1;32mc:\\Users\\tigok\\Desktop\\Uni\\SET Msc Assignment\\Python project folder\\.RL_venv\\Lib\\site-packages\\jaxopt\\_src\\base.py:301\u001b[0m, in \u001b[0;36mIterativeSolver._run\u001b[1;34m(self, init_params, *args, **kwargs)\u001b[0m\n\u001b[0;32m    297\u001b[0m \u001b[38;5;28;01mdef\u001b[39;00m\u001b[38;5;250m \u001b[39m\u001b[38;5;21m_run\u001b[39m(\u001b[38;5;28mself\u001b[39m,\n\u001b[0;32m    298\u001b[0m          init_params: Any,\n\u001b[0;32m    299\u001b[0m          \u001b[38;5;241m*\u001b[39margs,\n\u001b[0;32m    300\u001b[0m          \u001b[38;5;241m*\u001b[39m\u001b[38;5;241m*\u001b[39mkwargs) \u001b[38;5;241m-\u001b[39m\u001b[38;5;241m>\u001b[39m OptStep:\n\u001b[1;32m--> 301\u001b[0m   state \u001b[38;5;241m=\u001b[39m \u001b[38;5;28;43mself\u001b[39;49m\u001b[38;5;241;43m.\u001b[39;49m\u001b[43minit_state\u001b[49m\u001b[43m(\u001b[49m\u001b[43minit_params\u001b[49m\u001b[43m,\u001b[49m\u001b[43m \u001b[49m\u001b[38;5;241;43m*\u001b[39;49m\u001b[43margs\u001b[49m\u001b[43m,\u001b[49m\u001b[43m \u001b[49m\u001b[38;5;241;43m*\u001b[39;49m\u001b[38;5;241;43m*\u001b[39;49m\u001b[43mkwargs\u001b[49m\u001b[43m)\u001b[49m\n\u001b[0;32m    303\u001b[0m   \u001b[38;5;66;03m# We unroll the very first iteration. This allows `init_val` and `body_fun`\u001b[39;00m\n\u001b[0;32m    304\u001b[0m   \u001b[38;5;66;03m# below to have the same output type, which is a requirement of\u001b[39;00m\n\u001b[0;32m    305\u001b[0m   \u001b[38;5;66;03m# lax.while_loop and lax.scan.\u001b[39;00m\n\u001b[1;32m   (...)\u001b[0m\n\u001b[0;32m    316\u001b[0m   \u001b[38;5;66;03m# of a `lax.cond` for now in order to avoid staging the initial\u001b[39;00m\n\u001b[0;32m    317\u001b[0m   \u001b[38;5;66;03m# update and the run loop. They might not be staging compatible.\u001b[39;00m\n\u001b[0;32m    319\u001b[0m   zero_step \u001b[38;5;241m=\u001b[39m \u001b[38;5;28mself\u001b[39m\u001b[38;5;241m.\u001b[39m_make_zero_step(init_params, state)\n",
            "File \u001b[1;32mc:\\Users\\tigok\\Desktop\\Uni\\SET Msc Assignment\\Python project folder\\.RL_venv\\Lib\\site-packages\\jaxopt\\_src\\bisection.py:95\u001b[0m, in \u001b[0;36mBisection.init_state\u001b[1;34m(***failed resolving arguments***)\u001b[0m\n\u001b[0;32m     92\u001b[0m lower \u001b[38;5;241m=\u001b[39m jnp\u001b[38;5;241m.\u001b[39masarray(\u001b[38;5;28mself\u001b[39m\u001b[38;5;241m.\u001b[39mlower, \u001b[38;5;28mfloat\u001b[39m)\n\u001b[0;32m     93\u001b[0m upper \u001b[38;5;241m=\u001b[39m jnp\u001b[38;5;241m.\u001b[39masarray(\u001b[38;5;28mself\u001b[39m\u001b[38;5;241m.\u001b[39mupper, \u001b[38;5;28mfloat\u001b[39m)\n\u001b[1;32m---> 95\u001b[0m lower_value \u001b[38;5;241m=\u001b[39m \u001b[38;5;28;43mself\u001b[39;49m\u001b[38;5;241;43m.\u001b[39;49m\u001b[43moptimality_fun\u001b[49m\u001b[43m(\u001b[49m\u001b[43mlower\u001b[49m\u001b[43m,\u001b[49m\u001b[43m \u001b[49m\u001b[38;5;241;43m*\u001b[39;49m\u001b[43margs\u001b[49m\u001b[43m,\u001b[49m\u001b[43m \u001b[49m\u001b[38;5;241;43m*\u001b[39;49m\u001b[38;5;241;43m*\u001b[39;49m\u001b[43mkwargs\u001b[49m\u001b[43m)\u001b[49m\n\u001b[0;32m     96\u001b[0m upper_value \u001b[38;5;241m=\u001b[39m \u001b[38;5;28mself\u001b[39m\u001b[38;5;241m.\u001b[39moptimality_fun(upper, \u001b[38;5;241m*\u001b[39margs, \u001b[38;5;241m*\u001b[39m\u001b[38;5;241m*\u001b[39mkwargs)\n\u001b[0;32m     98\u001b[0m \u001b[38;5;66;03m# sign = 1: the function is increasing\u001b[39;00m\n\u001b[0;32m     99\u001b[0m \u001b[38;5;66;03m# sign = -1: the function is decreasing\u001b[39;00m\n\u001b[0;32m    100\u001b[0m \u001b[38;5;66;03m# sign = 0: the root is not contained in [lower, upper]\u001b[39;00m\n",
            "File \u001b[1;32mc:\\Users\\tigok\\Desktop\\Uni\\SET Msc Assignment\\Python project folder\\equdist\\notebooks\\..\\equdist\\functions.py:16\u001b[0m, in \u001b[0;36mtray_t_solver.<locals>.function\u001b[1;34m(tempcalc)\u001b[0m\n\u001b[0;32m     15\u001b[0m \u001b[38;5;28;01mdef\u001b[39;00m\u001b[38;5;250m \u001b[39m\u001b[38;5;21mfunction\u001b[39m(tempcalc):\n\u001b[1;32m---> 16\u001b[0m     \u001b[38;5;28;01mreturn\u001b[39;00m \u001b[38;5;241m1\u001b[39m \u001b[38;5;241m-\u001b[39m jnp\u001b[38;5;241m.\u001b[39msum(\u001b[43mvmap\u001b[49m\u001b[43m(\u001b[49m\u001b[43mthermodynamics\u001b[49m\u001b[38;5;241;43m.\u001b[39;49m\u001b[43mk_eq\u001b[49m\u001b[43m,\u001b[49m\u001b[43m \u001b[49m\u001b[43min_axes\u001b[49m\u001b[38;5;241;43m=\u001b[39;49m\u001b[43m(\u001b[49m\u001b[38;5;28;43;01mNone\u001b[39;49;00m\u001b[43m,\u001b[49m\u001b[43m \u001b[49m\u001b[38;5;241;43m0\u001b[39;49m\u001b[43m,\u001b[49m\u001b[43m \u001b[49m\u001b[38;5;28;43;01mNone\u001b[39;49;00m\u001b[43m)\u001b[49m\u001b[43m)\u001b[49m\u001b[43m(\u001b[49m\u001b[43mtempcalc\u001b[49m\u001b[43m,\u001b[49m\u001b[43m \u001b[49m\u001b[43mstate\u001b[49m\u001b[38;5;241;43m.\u001b[39;49m\u001b[43mcomponents\u001b[49m\u001b[43m,\u001b[49m\u001b[43m \u001b[49m\u001b[43mstate\u001b[49m\u001b[38;5;241;43m.\u001b[39;49m\u001b[43mpressure\u001b[49m\u001b[43m)\u001b[49m \u001b[38;5;241m*\u001b[39m xc[:, tray])\n",
            "    \u001b[1;31m[... skipping hidden 6 frame]\u001b[0m\n",
            "File \u001b[1;32mc:\\Users\\tigok\\Desktop\\Uni\\SET Msc Assignment\\Python project folder\\equdist\\notebooks\\..\\equdist\\thermodynamics.py:27\u001b[0m, in \u001b[0;36mk_eq\u001b[1;34m(temp, component, pressure)\u001b[0m\n\u001b[0;32m     25\u001b[0m \u001b[38;5;28;01mdef\u001b[39;00m\u001b[38;5;250m \u001b[39m\u001b[38;5;21mk_eq\u001b[39m(temp, component, pressure):\n\u001b[1;32m---> 27\u001b[0m     result \u001b[38;5;241m=\u001b[39m \u001b[43mp_sat\u001b[49m\u001b[43m(\u001b[49m\u001b[43mtemp\u001b[49m\u001b[43m,\u001b[49m\u001b[43m \u001b[49m\u001b[43mcomponent\u001b[49m\u001b[43m)\u001b[49m\u001b[38;5;241m/\u001b[39mpressure\n\u001b[0;32m     28\u001b[0m     \u001b[38;5;28;01mreturn\u001b[39;00m result\n",
            "File \u001b[1;32mc:\\Users\\tigok\\Desktop\\Uni\\SET Msc Assignment\\Python project folder\\equdist\\notebooks\\..\\equdist\\thermodynamics.py:14\u001b[0m, in \u001b[0;36mp_sat\u001b[1;34m(temp, compound)\u001b[0m\n\u001b[0;32m     12\u001b[0m \u001b[38;5;28;01mdef\u001b[39;00m\u001b[38;5;250m \u001b[39m\u001b[38;5;21mp_sat\u001b[39m(temp, compound):\n\u001b[0;32m     13\u001b[0m     \u001b[38;5;66;03m#dir = os.path.join(os.getcwd(), 'Pure component parameters')\u001b[39;00m\n\u001b[1;32m---> 14\u001b[0m     params \u001b[38;5;241m=\u001b[39m \u001b[43mPSAT\u001b[49m\u001b[43m[\u001b[49m\u001b[43mcompound\u001b[49m\u001b[43m]\u001b[49m\n\u001b[0;32m     15\u001b[0m     a, b, c, d, e, f, g, h, i \u001b[38;5;241m=\u001b[39m params\n\u001b[0;32m     16\u001b[0m     \u001b[38;5;28;01mreturn\u001b[39;00m jnp\u001b[38;5;241m.\u001b[39mexp(a \u001b[38;5;241m+\u001b[39m b \u001b[38;5;241m/\u001b[39m (temp \u001b[38;5;241m+\u001b[39m c) \u001b[38;5;241m+\u001b[39m d \u001b[38;5;241m*\u001b[39m temp \u001b[38;5;241m+\u001b[39m e \u001b[38;5;241m*\u001b[39m jnp\u001b[38;5;241m.\u001b[39mlog(temp) \u001b[38;5;241m+\u001b[39m f \u001b[38;5;241m*\u001b[39m temp \u001b[38;5;241m*\u001b[39m\u001b[38;5;241m*\u001b[39m g)\n",
            "File \u001b[1;32mc:\\Users\\tigok\\Desktop\\Uni\\SET Msc Assignment\\Python project folder\\.RL_venv\\Lib\\site-packages\\jax\\_src\\core.py:682\u001b[0m, in \u001b[0;36mTracer.__array__\u001b[1;34m(self, *args, **kw)\u001b[0m\n\u001b[0;32m    681\u001b[0m \u001b[38;5;28;01mdef\u001b[39;00m\u001b[38;5;250m \u001b[39m\u001b[38;5;21m__array__\u001b[39m(\u001b[38;5;28mself\u001b[39m, \u001b[38;5;241m*\u001b[39margs, \u001b[38;5;241m*\u001b[39m\u001b[38;5;241m*\u001b[39mkw):\n\u001b[1;32m--> 682\u001b[0m   \u001b[38;5;28;01mraise\u001b[39;00m TracerArrayConversionError(\u001b[38;5;28mself\u001b[39m)\n",
            "\u001b[1;31mTracerArrayConversionError\u001b[0m: The numpy.ndarray conversion method __array__() was called on traced array with shape int32[]\nThis BatchTracer with object id 2476256023312 was created on line:\n  c:\\Users\\tigok\\Desktop\\Uni\\SET Msc Assignment\\Python project folder\\equdist\\notebooks\\..\\equdist\\functions.py:16:27 (tray_t_solver.<locals>.function)\nSee https://jax.readthedocs.io/en/latest/errors.html#jax.errors.TracerArrayConversionError"
          ]
        }
      ],
      "source": [
        "import jax.numpy as jnp\n",
        "from time import time\n",
        "from jax import jit, vmap\n",
        "import matplotlib.pyplot as plt\n",
        "from equdist.plot_generation import plot_function\n",
        "from equdist.model import inside_simulation as simulation\n",
        "from equdist.model import initialize\n",
        "from equdist.model import condensor_duty\n",
        "import os\n",
        "from tqdm import tqdm\n",
        "\n",
        "\n",
        "state_init = initialize()\n",
        "\n",
        "\n",
        "\n",
        "zf = jnp.array([0.2, 0.3, 0.4, 0.1])\n",
        "zf = zf/jnp.sum(zf)\n",
        "iterations = 0\n",
        "st = time()\n",
        "\n",
        "\n",
        "state = jit(simulation)(\n",
        "        state=state_init,\n",
        "        nstages=jnp.array(30, dtype=int),\n",
        "        feedstage=jnp.array(15, dtype=int),\n",
        "        pressure=jnp.array(2.0, dtype=float),\n",
        "        feed=jnp.array(1000.0, dtype=float),\n",
        "        z=jnp.array(zf, dtype=float),\n",
        "        distillate=jnp.array(400, dtype=float),\n",
        "        rr=jnp.array(1, dtype=float),\n",
        "        specs=False\n",
        "    )\n",
        "\n",
        "print('evaluation time = ', time()-st)\n",
        "print('Equimolar NR iterations to convergence =', state.EQU_iterations)\n",
        "print('Full NR iterations to convergence =', state.NR_iterations)\n",
        "plot_function(jnp.arange(1, state.Nstages+1), state.L[0:state.Nstages], state.V[0:state.Nstages], state.temperature[0:state.Nstages], state.Hliq[0:state.Nstages], state.Hvap[0:state.Nstages], state.X[jnp.where(zf != 0, jnp.arange(0, len(zf)), 0), 0:state.Nstages], state.Y[jnp.where(zf != 0, jnp.arange(0, len(zf)), 0), 0:state.Nstages], jnp.where(zf != 0, jnp.arange(0, len(zf)), 0), figsize = (12, 5))\n",
        "#plot_function(jnp.arange(1, state.Nstages[0]+1), state.L[0, 0:state.Nstages[0]], state.V[0, 0:state.Nstages[0]], state.temperature[0, 0:state.Nstages[0]], state.Hliq[0, 0:state.Nstages[0]], state.Hvap[0, 0:state.Nstages[0]], state.X[0, jnp.where(zf != 0, jnp.arange(0, len(zf)), 0), 0:state.Nstages[0]], state.Y[0, jnp.where(zf != 0, jnp.arange(0, len(zf)), 0), 0:state.Nstages[0]], jnp.where(zf != 0, jnp.arange(0, len(zf)), 0))\n",
        "\n",
        "plt.show()"
      ]
    }
  ],
  "metadata": {
    "accelerator": "GPU",
    "colab": {
      "gpuType": "T4",
      "include_colab_link": true,
      "provenance": []
    },
    "kernelspec": {
      "display_name": ".RL_venv",
      "language": "python",
      "name": "python3"
    },
    "language_info": {
      "codemirror_mode": {
        "name": "ipython",
        "version": 3
      },
      "file_extension": ".py",
      "mimetype": "text/x-python",
      "name": "python",
      "nbconvert_exporter": "python",
      "pygments_lexer": "ipython3",
      "version": "3.13.1"
    }
  },
  "nbformat": 4,
  "nbformat_minor": 5
}
