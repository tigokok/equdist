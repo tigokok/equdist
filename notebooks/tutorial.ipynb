{
  "cells": [
    {
      "cell_type": "markdown",
      "metadata": {
        "colab_type": "text",
        "id": "view-in-github"
      },
      "source": [
        "<a href=\"https://colab.research.google.com/github/NiklasSlager/equdist/blob/master/notebooks/tutorial.ipynb\" target=\"_parent\"><img src=\"https://colab.research.google.com/assets/colab-badge.svg\" alt=\"Open In Colab\"/></a>"
      ]
    },
    {
      "cell_type": "code",
      "execution_count": null,
      "id": "2vXshkddZapV",
      "metadata": {
        "colab": {
          "base_uri": "https://localhost:8080/"
        },
        "collapsed": true,
        "id": "2vXshkddZapV",
        "outputId": "2335b867-dd31-4252-9fa6-b60aa49a40f2"
      },
      "outputs": [],
      "source": [
        "!pip install --quiet -U git+https://github.com/NiklasSlager/equdist.git"
      ]
    },
    {
      "cell_type": "code",
      "execution_count": 2,
      "id": "5487e6ab",
      "metadata": {},
      "outputs": [],
      "source": [
        "import sys\n",
        "sys.path.append(\"..\")"
      ]
    },
    {
      "cell_type": "code",
      "execution_count": null,
      "id": "74927c27",
      "metadata": {},
      "outputs": [
        {
          "ename": "ModuleNotFoundError",
          "evalue": "No module named 'equdist'",
          "output_type": "error",
          "traceback": [
            "\u001b[1;31m---------------------------------------------------------------------------\u001b[0m",
            "\u001b[1;31mModuleNotFoundError\u001b[0m                       Traceback (most recent call last)",
            "Cell \u001b[1;32mIn[1], line 1\u001b[0m\n\u001b[1;32m----> 1\u001b[0m \u001b[38;5;28;01mfrom\u001b[39;00m\u001b[38;5;250m \u001b[39m\u001b[38;5;21;01mequdist\u001b[39;00m\u001b[38;5;21;01m.\u001b[39;00m\u001b[38;5;21;01mphysical_data_sets\u001b[39;00m\u001b[38;5;250m \u001b[39m\u001b[38;5;28;01mimport\u001b[39;00m save_component_list\n\u001b[0;32m      3\u001b[0m compounds \u001b[38;5;241m=\u001b[39m [\u001b[38;5;124m'\u001b[39m\u001b[38;5;124mn-propane\u001b[39m\u001b[38;5;124m'\u001b[39m, \u001b[38;5;124m'\u001b[39m\u001b[38;5;124miso-butane\u001b[39m\u001b[38;5;124m'\u001b[39m]\n\u001b[0;32m      4\u001b[0m save_component_list(compounds)\n",
            "\u001b[1;31mModuleNotFoundError\u001b[0m: No module named 'equdist'"
          ]
        }
      ],
      "source": [
        "from equdist.physical_data_sets import save_component_list\n",
        "\n",
        "compounds = ['n-propane', 'iso-butane']\n",
        "save_component_list(compounds)"
      ]
    },
    {
      "cell_type": "code",
      "execution_count": null,
      "id": "c9ce02d1-b59c-46ca-ab57-3217d5cacd5b",
      "metadata": {
        "colab": {
          "base_uri": "https://localhost:8080/",
          "height": 465
        },
        "id": "c9ce02d1-b59c-46ca-ab57-3217d5cacd5b",
        "outputId": "2d62fe32-fe79-4794-f8ad-389e5136ec2c"
      },
      "outputs": [],
      "source": [
        "import jax.numpy as jnp\n",
        "from time import time\n",
        "from jax import jit, vmap\n",
        "import matplotlib.pyplot as plt\n",
        "from equdist.plot_generation import plot_function\n",
        "from equdist.model import inside_simulation as simulation\n",
        "from equdist.model import initialize\n",
        "from equdist.model import condensor_duty\n",
        "import os\n",
        "from tqdm import tqdm\n",
        "\n",
        "\n",
        "state_init = initialize(len(compounds))\n",
        "\n",
        "\n",
        "\n",
        "zf = jnp.array([0.86, 0.14])\n",
        "zf = zf/jnp.sum(zf)\n",
        "iterations = 0\n",
        "st = time()\n",
        "\n",
        "\n",
        "state = jit(simulation)(\n",
        "        state=state_init,\n",
        "        nstages=jnp.array(5, dtype=int),\n",
        "        feedstage=jnp.array(4, dtype=int),\n",
        "        pressure=jnp.array(1.0, dtype=float),\n",
        "        feed=jnp.array(1000.0, dtype=float),\n",
        "        z=jnp.array(zf, dtype=float),\n",
        "        distillate=jnp.array(300, dtype=float),\n",
        "        rr=jnp.array(2.5, dtype=float),\n",
        "        specs=False\n",
        "    )\n",
        "\n",
        "print(state.X[:, 0])\n",
        "print(state.distillate)\n",
        "\n",
        "print('evaluation time = ', time()-st)\n",
        "print('Equimolar NR iterations to convergence =', state.EQU_iterations)\n",
        "print('Full NR iterations to convergence =', state.NR_iterations)\n",
        "plot_function(jnp.arange(1, state.Nstages+1), state.L[0:state.Nstages], state.V[0:state.Nstages], state.temperature[0:state.Nstages], state.Hliq[0:state.Nstages], state.Hvap[0:state.Nstages], state.X[jnp.where(zf != 0, jnp.arange(0, len(zf)), 0), 0:state.Nstages], state.Y[jnp.where(zf != 0, jnp.arange(0, len(zf)), 0), 0:state.Nstages], jnp.where(zf != 0, jnp.arange(0, len(zf)), 0), figsize = (12, 5))\n",
        "#plot_function(jnp.arange(1, state.Nstages[0]+1), state.L[0, 0:state.Nstages[0]], state.V[0, 0:state.Nstages[0]], state.temperature[0, 0:state.Nstages[0]], state.Hliq[0, 0:state.Nstages[0]], state.Hvap[0, 0:state.Nstages[0]], state.X[0, jnp.where(zf != 0, jnp.arange(0, len(zf)), 0), 0:state.Nstages[0]], state.Y[0, jnp.where(zf != 0, jnp.arange(0, len(zf)), 0), 0:state.Nstages[0]], jnp.where(zf != 0, jnp.arange(0, len(zf)), 0))\n",
        "\n",
        "plt.show()"
      ]
    }
  ],
  "metadata": {
    "accelerator": "GPU",
    "colab": {
      "gpuType": "T4",
      "include_colab_link": true,
      "provenance": []
    },
    "kernelspec": {
      "display_name": ".RL_venv",
      "language": "python",
      "name": "python3"
    },
    "language_info": {
      "codemirror_mode": {
        "name": "ipython",
        "version": 3
      },
      "file_extension": ".py",
      "mimetype": "text/x-python",
      "name": "python",
      "nbconvert_exporter": "python",
      "pygments_lexer": "ipython3",
      "version": "3.13.1"
    }
  },
  "nbformat": 4,
  "nbformat_minor": 5
}
